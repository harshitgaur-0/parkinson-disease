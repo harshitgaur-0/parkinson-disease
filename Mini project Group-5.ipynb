{
 "cells": [
  {
   "cell_type": "code",
   "execution_count": 1,
   "metadata": {},
   "outputs": [
    {
     "data": {
      "text/html": [
       "<div>\n",
       "<style scoped>\n",
       "    .dataframe tbody tr th:only-of-type {\n",
       "        vertical-align: middle;\n",
       "    }\n",
       "\n",
       "    .dataframe tbody tr th {\n",
       "        vertical-align: top;\n",
       "    }\n",
       "\n",
       "    .dataframe thead th {\n",
       "        text-align: right;\n",
       "    }\n",
       "</style>\n",
       "<table border=\"1\" class=\"dataframe\">\n",
       "  <thead>\n",
       "    <tr style=\"text-align: right;\">\n",
       "      <th></th>\n",
       "      <th>name</th>\n",
       "      <th>MDVP:Fo(Hz)</th>\n",
       "      <th>MDVP:Fhi(Hz)</th>\n",
       "      <th>MDVP:Flo(Hz)</th>\n",
       "      <th>MDVP:Jitter(%)</th>\n",
       "      <th>MDVP:Jitter(Abs)</th>\n",
       "      <th>MDVP:RAP</th>\n",
       "      <th>MDVP:PPQ</th>\n",
       "      <th>Jitter:DDP</th>\n",
       "      <th>MDVP:Shimmer</th>\n",
       "      <th>...</th>\n",
       "      <th>Shimmer:DDA</th>\n",
       "      <th>NHR</th>\n",
       "      <th>HNR</th>\n",
       "      <th>status</th>\n",
       "      <th>RPDE</th>\n",
       "      <th>DFA</th>\n",
       "      <th>spread1</th>\n",
       "      <th>spread2</th>\n",
       "      <th>D2</th>\n",
       "      <th>PPE</th>\n",
       "    </tr>\n",
       "  </thead>\n",
       "  <tbody>\n",
       "    <tr>\n",
       "      <th>0</th>\n",
       "      <td>phon_R01_S01_1</td>\n",
       "      <td>119.992</td>\n",
       "      <td>157.302</td>\n",
       "      <td>74.997</td>\n",
       "      <td>0.00784</td>\n",
       "      <td>0.00007</td>\n",
       "      <td>0.00370</td>\n",
       "      <td>0.00554</td>\n",
       "      <td>0.01109</td>\n",
       "      <td>0.04374</td>\n",
       "      <td>...</td>\n",
       "      <td>0.06545</td>\n",
       "      <td>0.02211</td>\n",
       "      <td>21.033</td>\n",
       "      <td>1</td>\n",
       "      <td>0.414783</td>\n",
       "      <td>0.815285</td>\n",
       "      <td>-4.813031</td>\n",
       "      <td>0.266482</td>\n",
       "      <td>2.301442</td>\n",
       "      <td>0.284654</td>\n",
       "    </tr>\n",
       "    <tr>\n",
       "      <th>1</th>\n",
       "      <td>phon_R01_S01_2</td>\n",
       "      <td>122.400</td>\n",
       "      <td>148.650</td>\n",
       "      <td>113.819</td>\n",
       "      <td>0.00968</td>\n",
       "      <td>0.00008</td>\n",
       "      <td>0.00465</td>\n",
       "      <td>0.00696</td>\n",
       "      <td>0.01394</td>\n",
       "      <td>0.06134</td>\n",
       "      <td>...</td>\n",
       "      <td>0.09403</td>\n",
       "      <td>0.01929</td>\n",
       "      <td>19.085</td>\n",
       "      <td>1</td>\n",
       "      <td>0.458359</td>\n",
       "      <td>0.819521</td>\n",
       "      <td>-4.075192</td>\n",
       "      <td>0.335590</td>\n",
       "      <td>2.486855</td>\n",
       "      <td>0.368674</td>\n",
       "    </tr>\n",
       "    <tr>\n",
       "      <th>2</th>\n",
       "      <td>phon_R01_S01_3</td>\n",
       "      <td>116.682</td>\n",
       "      <td>131.111</td>\n",
       "      <td>111.555</td>\n",
       "      <td>0.01050</td>\n",
       "      <td>0.00009</td>\n",
       "      <td>0.00544</td>\n",
       "      <td>0.00781</td>\n",
       "      <td>0.01633</td>\n",
       "      <td>0.05233</td>\n",
       "      <td>...</td>\n",
       "      <td>0.08270</td>\n",
       "      <td>0.01309</td>\n",
       "      <td>20.651</td>\n",
       "      <td>1</td>\n",
       "      <td>0.429895</td>\n",
       "      <td>0.825288</td>\n",
       "      <td>-4.443179</td>\n",
       "      <td>0.311173</td>\n",
       "      <td>2.342259</td>\n",
       "      <td>0.332634</td>\n",
       "    </tr>\n",
       "    <tr>\n",
       "      <th>3</th>\n",
       "      <td>phon_R01_S01_4</td>\n",
       "      <td>116.676</td>\n",
       "      <td>137.871</td>\n",
       "      <td>111.366</td>\n",
       "      <td>0.00997</td>\n",
       "      <td>0.00009</td>\n",
       "      <td>0.00502</td>\n",
       "      <td>0.00698</td>\n",
       "      <td>0.01505</td>\n",
       "      <td>0.05492</td>\n",
       "      <td>...</td>\n",
       "      <td>0.08771</td>\n",
       "      <td>0.01353</td>\n",
       "      <td>20.644</td>\n",
       "      <td>1</td>\n",
       "      <td>0.434969</td>\n",
       "      <td>0.819235</td>\n",
       "      <td>-4.117501</td>\n",
       "      <td>0.334147</td>\n",
       "      <td>2.405554</td>\n",
       "      <td>0.368975</td>\n",
       "    </tr>\n",
       "    <tr>\n",
       "      <th>4</th>\n",
       "      <td>phon_R01_S01_5</td>\n",
       "      <td>116.014</td>\n",
       "      <td>141.781</td>\n",
       "      <td>110.655</td>\n",
       "      <td>0.01284</td>\n",
       "      <td>0.00011</td>\n",
       "      <td>0.00655</td>\n",
       "      <td>0.00908</td>\n",
       "      <td>0.01966</td>\n",
       "      <td>0.06425</td>\n",
       "      <td>...</td>\n",
       "      <td>0.10470</td>\n",
       "      <td>0.01767</td>\n",
       "      <td>19.649</td>\n",
       "      <td>1</td>\n",
       "      <td>0.417356</td>\n",
       "      <td>0.823484</td>\n",
       "      <td>-3.747787</td>\n",
       "      <td>0.234513</td>\n",
       "      <td>2.332180</td>\n",
       "      <td>0.410335</td>\n",
       "    </tr>\n",
       "  </tbody>\n",
       "</table>\n",
       "<p>5 rows × 24 columns</p>\n",
       "</div>"
      ],
      "text/plain": [
       "             name  MDVP:Fo(Hz)  MDVP:Fhi(Hz)  MDVP:Flo(Hz)  MDVP:Jitter(%)  \\\n",
       "0  phon_R01_S01_1      119.992       157.302        74.997         0.00784   \n",
       "1  phon_R01_S01_2      122.400       148.650       113.819         0.00968   \n",
       "2  phon_R01_S01_3      116.682       131.111       111.555         0.01050   \n",
       "3  phon_R01_S01_4      116.676       137.871       111.366         0.00997   \n",
       "4  phon_R01_S01_5      116.014       141.781       110.655         0.01284   \n",
       "\n",
       "   MDVP:Jitter(Abs)  MDVP:RAP  MDVP:PPQ  Jitter:DDP  MDVP:Shimmer  ...  \\\n",
       "0           0.00007   0.00370   0.00554     0.01109       0.04374  ...   \n",
       "1           0.00008   0.00465   0.00696     0.01394       0.06134  ...   \n",
       "2           0.00009   0.00544   0.00781     0.01633       0.05233  ...   \n",
       "3           0.00009   0.00502   0.00698     0.01505       0.05492  ...   \n",
       "4           0.00011   0.00655   0.00908     0.01966       0.06425  ...   \n",
       "\n",
       "   Shimmer:DDA      NHR     HNR  status      RPDE       DFA   spread1  \\\n",
       "0      0.06545  0.02211  21.033       1  0.414783  0.815285 -4.813031   \n",
       "1      0.09403  0.01929  19.085       1  0.458359  0.819521 -4.075192   \n",
       "2      0.08270  0.01309  20.651       1  0.429895  0.825288 -4.443179   \n",
       "3      0.08771  0.01353  20.644       1  0.434969  0.819235 -4.117501   \n",
       "4      0.10470  0.01767  19.649       1  0.417356  0.823484 -3.747787   \n",
       "\n",
       "    spread2        D2       PPE  \n",
       "0  0.266482  2.301442  0.284654  \n",
       "1  0.335590  2.486855  0.368674  \n",
       "2  0.311173  2.342259  0.332634  \n",
       "3  0.334147  2.405554  0.368975  \n",
       "4  0.234513  2.332180  0.410335  \n",
       "\n",
       "[5 rows x 24 columns]"
      ]
     },
     "execution_count": 1,
     "metadata": {},
     "output_type": "execute_result"
    }
   ],
   "source": [
    "#model 1 (Boosting)\n",
    "import pandas as pd\n",
    "import numpy as np\n",
    "df=pd.read_csv(\"parkinsons.data\")\n",
    "df.head(5)"
   ]
  },
  {
   "cell_type": "code",
   "execution_count": 16,
   "metadata": {},
   "outputs": [],
   "source": [
    "df.dropna()\n",
    "dependent=df[\"status\"]\n",
    "independent=df.loc[:, df.columns != \"status\"]\n",
    "independent=independent.loc[:, independent.columns != \"name\"]"
   ]
  },
  {
   "cell_type": "code",
   "execution_count": 17,
   "metadata": {},
   "outputs": [],
   "source": [
    "from sklearn.preprocessing import MinMaxScaler\n",
    "Scaler=MinMaxScaler((-1,1))\n",
    "x=Scaler.fit_transform(independent)\n",
    "from sklearn.model_selection import train_test_split\n",
    "train_x,test_x,train_y,test_y=train_test_split(x,dependent,test_size=0.2)\n",
    "\n"
   ]
  },
  {
   "cell_type": "code",
   "execution_count": 18,
   "metadata": {},
   "outputs": [
    {
     "name": "stdout",
     "output_type": "stream",
     "text": [
      "accuracy of model= 0.8974358974358975\n"
     ]
    }
   ],
   "source": [
    "\n",
    "\n",
    "from xgboost import XGBClassifier\n",
    "model=XGBClassifier().fit(train_x,train_y)\n",
    "pred_y=model.predict(test_x)\n",
    "from sklearn.metrics import accuracy_score\n",
    "print(\"accuracy of model=\",accuracy_score(test_y,pred_y))"
   ]
  },
  {
   "cell_type": "code",
   "execution_count": 19,
   "metadata": {},
   "outputs": [
    {
     "name": "stdout",
     "output_type": "stream",
     "text": [
      "accuracy of model= 0.8717948717948718\n"
     ]
    }
   ],
   "source": [
    "\n",
    "\n",
    "#model 2\n",
    "from sklearn.neighbors import KNeighborsClassifier\n",
    "from sklearn import preprocessing\n",
    "norm_x=preprocessing.StandardScaler().fit(independent).transform(independent)\n",
    "from sklearn.model_selection import train_test_split\n",
    "train_x,test_x,train_y,test_y=train_test_split(norm_x,dependent,test_size=0.2)\n",
    "neigh = KNeighborsClassifier(n_neighbors = 2).fit(train_x,train_y)\n",
    "y_pred=neigh.predict(test_x)\n",
    "from sklearn.metrics import accuracy_score\n",
    "print(\"accuracy of model=\",accuracy_score(test_y,y_pred))\n",
    "\n",
    "\n",
    "\n"
   ]
  },
  {
   "cell_type": "code",
   "execution_count": 2,
   "metadata": {
    "scrolled": true
   },
   "outputs": [
    {
     "name": "stdout",
     "output_type": "stream",
     "text": [
      "Collecting xgboost\n",
      "  Downloading xgboost-1.2.0-py3-none-win_amd64.whl (86.5 MB)\n",
      "Requirement already satisfied: numpy in c:\\users\\harsh\\anaconda3\\lib\\site-packages (from xgboost) (1.19.1)\n",
      "Requirement already satisfied: scipy in c:\\users\\harsh\\anaconda3\\lib\\site-packages (from xgboost) (1.5.0)\n",
      "Installing collected packages: xgboost\n",
      "Successfully installed xgboost-1.2.0\n"
     ]
    }
   ],
   "source": [
    "import sys\n",
    "!{sys.executable} -m pip install xgboost"
   ]
  },
  {
   "cell_type": "code",
   "execution_count": 20,
   "metadata": {},
   "outputs": [],
   "source": [
    "model #3 (Bagging)\n",
    "df=pd.read_csv(\"parkinsons.data\")\n",
    "features=df.loc[:, df.columns != \"status\"]\n",
    "features=features.loc[:,features.columns != \"name\"]\n",
    "label=df[\"status\"]\n"
   ]
  },
  {
   "cell_type": "code",
   "execution_count": 21,
   "metadata": {},
   "outputs": [],
   "source": [
    "from sklearn.ensemble import RandomForestClassifier\n",
    "from sklearn.metrics import precision_recall_fscore_support as score\n",
    "from sklearn.model_selection import train_test_split\n",
    "x_train,x_test,y_train,y_test=train_test_split(features,label,test_size=0.2,random_state=7)\n"
   ]
  },
  {
   "cell_type": "code",
   "execution_count": 22,
   "metadata": {},
   "outputs": [
    {
     "name": "stdout",
     "output_type": "stream",
     "text": [
      "EST 10 / DEPTH 10 ------- precision 0.912 / recall 0.969 / Accuracy 0.897\n",
      "EST 10 / DEPTH 20 ------- precision 0.939 / recall 0.969 / Accuracy 0.923\n",
      "EST 10 / DEPTH 30 ------- precision 0.912 / recall 0.969 / Accuracy 0.897\n",
      "EST 10 / DEPTH 50 ------- precision 0.938 / recall 0.938 / Accuracy 0.897\n",
      "EST 10 / DEPTH None ------- precision 0.909 / recall 0.938 / Accuracy 0.872\n",
      "EST 50 / DEPTH 10 ------- precision 0.886 / recall 0.969 / Accuracy 0.872\n",
      "EST 50 / DEPTH 20 ------- precision 0.914 / recall 1.0 / Accuracy 0.923\n",
      "EST 50 / DEPTH 30 ------- precision 0.914 / recall 1.0 / Accuracy 0.923\n",
      "EST 50 / DEPTH 50 ------- precision 0.914 / recall 1.0 / Accuracy 0.923\n",
      "EST 50 / DEPTH None ------- precision 0.912 / recall 0.969 / Accuracy 0.897\n",
      "EST 100 / DEPTH 10 ------- precision 0.914 / recall 1.0 / Accuracy 0.923\n",
      "EST 100 / DEPTH 20 ------- precision 0.914 / recall 1.0 / Accuracy 0.923\n",
      "EST 100 / DEPTH 30 ------- precision 0.912 / recall 0.969 / Accuracy 0.897\n",
      "EST 100 / DEPTH 50 ------- precision 0.912 / recall 0.969 / Accuracy 0.897\n",
      "EST 100 / DEPTH None ------- precision 0.912 / recall 0.969 / Accuracy 0.897\n",
      "EST 150 / DEPTH 10 ------- precision 0.914 / recall 1.0 / Accuracy 0.923\n",
      "EST 150 / DEPTH 20 ------- precision 0.914 / recall 1.0 / Accuracy 0.923\n",
      "EST 150 / DEPTH 30 ------- precision 0.912 / recall 0.969 / Accuracy 0.897\n",
      "EST 150 / DEPTH 50 ------- precision 0.912 / recall 0.969 / Accuracy 0.897\n",
      "EST 150 / DEPTH None ------- precision 0.914 / recall 1.0 / Accuracy 0.923\n",
      "EST 200 / DEPTH 10 ------- precision 0.914 / recall 1.0 / Accuracy 0.923\n",
      "EST 200 / DEPTH 20 ------- precision 0.912 / recall 0.969 / Accuracy 0.897\n",
      "EST 200 / DEPTH 30 ------- precision 0.912 / recall 0.969 / Accuracy 0.897\n",
      "EST 200 / DEPTH 50 ------- precision 0.914 / recall 1.0 / Accuracy 0.923\n",
      "EST 200 / DEPTH None ------- precision 0.914 / recall 1.0 / Accuracy 0.923\n"
     ]
    }
   ],
   "source": [
    "def Rfs(nest,md):\n",
    "    rf=RandomForestClassifier(n_estimators=nest,max_depth=md,n_jobs=-1)\n",
    "    model=rf.fit(x_train,y_train)\n",
    "    y_pred=model.predict(x_test)\n",
    "    precision,recall,fscore,support=score(y_test,y_pred,pos_label=1,average=\"binary\")\n",
    "    print('EST {} / DEPTH {} ------- precision {} / recall {} / Accuracy {}'.format(nest,md,round(precision,3),round(recall,3),round((y_pred==y_test).sum()/len(y_pred),3)))\n",
    "for nest in [10,50,100,150,200]:\n",
    "    for md in [10,20,30,50,None]:\n",
    "        Rfs(nest,md)\n",
    "    "
   ]
  },
  {
   "cell_type": "code",
   "execution_count": 24,
   "metadata": {},
   "outputs": [],
   "source": [
    "from sklearn.ensemble import GradientBoostingClassifier"
   ]
  },
  {
   "cell_type": "code",
   "execution_count": 26,
   "metadata": {},
   "outputs": [
    {
     "name": "stdout",
     "output_type": "stream",
     "text": [
      "EST 50 / DEPTH 2 ------- precision 0.939 / recall 0.969 / Accuracy 0.923\n",
      "EST 50 / DEPTH 3 ------- precision 0.939 / recall 0.969 / Accuracy 0.923\n",
      "EST 50 / DEPTH 5 ------- precision 0.939 / recall 0.969 / Accuracy 0.923\n",
      "EST 50 / DEPTH 7 ------- precision 0.967 / recall 0.906 / Accuracy 0.897\n",
      "EST 50 / DEPTH 10 ------- precision 0.966 / recall 0.875 / Accuracy 0.872\n",
      "EST 100 / DEPTH 2 ------- precision 0.969 / recall 0.969 / Accuracy 0.949\n",
      "EST 100 / DEPTH 3 ------- precision 0.912 / recall 0.969 / Accuracy 0.897\n",
      "EST 100 / DEPTH 5 ------- precision 0.939 / recall 0.969 / Accuracy 0.923\n",
      "EST 100 / DEPTH 7 ------- precision 0.967 / recall 0.906 / Accuracy 0.897\n",
      "EST 100 / DEPTH 10 ------- precision 0.966 / recall 0.875 / Accuracy 0.872\n",
      "EST 150 / DEPTH 2 ------- precision 0.97 / recall 1.0 / Accuracy 0.974\n",
      "EST 150 / DEPTH 3 ------- precision 0.912 / recall 0.969 / Accuracy 0.897\n",
      "EST 150 / DEPTH 5 ------- precision 0.939 / recall 0.969 / Accuracy 0.923\n",
      "EST 150 / DEPTH 7 ------- precision 0.967 / recall 0.906 / Accuracy 0.897\n",
      "EST 150 / DEPTH 10 ------- precision 0.966 / recall 0.875 / Accuracy 0.872\n",
      "EST 200 / DEPTH 2 ------- precision 0.969 / recall 0.969 / Accuracy 0.949\n",
      "EST 200 / DEPTH 3 ------- precision 0.941 / recall 1.0 / Accuracy 0.949\n",
      "EST 200 / DEPTH 5 ------- precision 0.939 / recall 0.969 / Accuracy 0.923\n",
      "EST 200 / DEPTH 7 ------- precision 0.967 / recall 0.906 / Accuracy 0.897\n",
      "EST 200 / DEPTH 10 ------- precision 0.967 / recall 0.906 / Accuracy 0.897\n",
      "EST 250 / DEPTH 2 ------- precision 1.0 / recall 1.0 / Accuracy 1.0\n",
      "EST 250 / DEPTH 3 ------- precision 0.97 / recall 1.0 / Accuracy 0.974\n",
      "EST 250 / DEPTH 5 ------- precision 0.939 / recall 0.969 / Accuracy 0.923\n",
      "EST 250 / DEPTH 7 ------- precision 0.967 / recall 0.906 / Accuracy 0.897\n",
      "EST 250 / DEPTH 10 ------- precision 0.967 / recall 0.906 / Accuracy 0.897\n"
     ]
    }
   ],
   "source": [
    "def Gbc(nest,md):\n",
    "    gb=GradientBoostingClassifier(n_estimators=nest,max_depth=md)\n",
    "    model=gb.fit(x_train,y_train)\n",
    "    y_pred=model.predict(x_test)\n",
    "    precision,recall,fscore,support=score(y_test,y_pred,pos_label=1,average=\"binary\")\n",
    "    print('EST {} / DEPTH {} ------- precision {} / recall {} / Accuracy {}'.format(nest,md,round(precision,3),round(recall,3),round((y_pred==y_test).sum()/len(y_pred),3)))\n",
    "for nest in [50,100,150,200,250]:\n",
    "    for md in [2,3,5,7,10]:\n",
    "        Gbc(nest,md)"
   ]
  },
  {
   "cell_type": "code",
   "execution_count": null,
   "metadata": {},
   "outputs": [],
   "source": []
  }
 ],
 "metadata": {
  "kernelspec": {
   "display_name": "Python 3",
   "language": "python",
   "name": "python3"
  },
  "language_info": {
   "codemirror_mode": {
    "name": "ipython",
    "version": 3
   },
   "file_extension": ".py",
   "mimetype": "text/x-python",
   "name": "python",
   "nbconvert_exporter": "python",
   "pygments_lexer": "ipython3",
   "version": "3.8.5"
  }
 },
 "nbformat": 4,
 "nbformat_minor": 4
}
